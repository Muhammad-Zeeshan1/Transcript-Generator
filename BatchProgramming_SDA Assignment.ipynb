{
 "cells": [
  {
   "cell_type": "code",
   "execution_count": 5,
   "id": "d6b5222c",
   "metadata": {},
   "outputs": [
    {
     "name": "stdout",
     "output_type": "stream",
     "text": [
      "Collecting fpdf\n",
      "  Downloading fpdf-1.7.2.tar.gz (39 kB)\n",
      "Building wheels for collected packages: fpdf\n",
      "  Building wheel for fpdf (setup.py): started\n",
      "  Building wheel for fpdf (setup.py): finished with status 'done'\n",
      "  Created wheel for fpdf: filename=fpdf-1.7.2-py2.py3-none-any.whl size=40723 sha256=6a761f4518e9570e8695dd6ce3de65c7ce008e73569265e69900199029f9075f\n",
      "  Stored in directory: c:\\users\\laptop world\\appdata\\local\\pip\\cache\\wheels\\44\\35\\8b\\86ce00cec7e4d13c5f189680ae0fa82f919bedc066c2cddae9\n",
      "Successfully built fpdf\n",
      "Installing collected packages: fpdf\n",
      "Successfully installed fpdf-1.7.2\n",
      "Note: you may need to restart the kernel to use updated packages.\n"
     ]
    }
   ],
   "source": [
    "pip install fpdf"
   ]
  },
  {
   "cell_type": "code",
   "execution_count": 13,
   "id": "c4a1ca8d",
   "metadata": {},
   "outputs": [],
   "source": [
    "from datetime import date\n",
    "from fpdf import FPDF"
   ]
  },
  {
   "cell_type": "code",
   "execution_count": 14,
   "id": "0a918c5e",
   "metadata": {},
   "outputs": [],
   "source": [
    "file = open('employees_data.csv')\n",
    "x = file.read()\n",
    "file.close()"
   ]
  },
  {
   "cell_type": "code",
   "execution_count": 15,
   "id": "89c22d9d",
   "metadata": {},
   "outputs": [],
   "source": [
    "x = x.split(',,\\n')"
   ]
  },
  {
   "cell_type": "code",
   "execution_count": 16,
   "id": "4fc0e88d",
   "metadata": {},
   "outputs": [],
   "source": [
    "idxs = {}"
   ]
  },
  {
   "cell_type": "code",
   "execution_count": 17,
   "id": "aa223e85",
   "metadata": {
    "scrolled": true
   },
   "outputs": [
    {
     "name": "stdout",
     "output_type": "stream",
     "text": [
      "{'ID': 0, 'Name': 1, 'Department': 2, 'Designation': 3, 'Leaves': 4, 'Salary': 5, 'Month': 6}\n"
     ]
    }
   ],
   "source": [
    "for idx, row in enumerate(x):\n",
    "    if idx == 0:\n",
    "        row = row.split(',')\n",
    "        for point, elems in enumerate(row):\n",
    "                idxs[row[point]]= point\n",
    "        print(idxs)"
   ]
  },
  {
   "cell_type": "code",
   "execution_count": 20,
   "id": "33f9def4",
   "metadata": {},
   "outputs": [],
   "source": [
    "for emp in x:\n",
    "    emp = emp.split(',')\n",
    "    if emp[0] != 'ID':\n",
    "        \n",
    "        lvs = int(emp[idxs['Leaves']])\n",
    "        if lvs>0:\n",
    "            salary = (int(emp[idxs['Salary']])-((int(emp[idxs['Salary']])/30)*lvs))\n",
    "        else:\n",
    "            salary = int(emp[idxs['Salary']])\n",
    "            \n",
    "        receipt = open('Receipts/emp_'+emp[0]+'.txt', 'w+')\n",
    "        receipt.write(\n",
    "            '___________________________________________\\n          Employee Salary Receipt\\n           MahaPari Sols Org.\\n-------------------------------------------\\n\\nID: {0}      Date: {1}   Month: {2}\\nName: {3}\\nDepartment: {4}\\nDesignation: {5}\\nSalary: {8}\\nTotal Leaves: {6}\\nLeaves Deduction: {9}\\nSalary Amount: {7}\\n \\n-------------------------------------------\\n  Address: XYZ    |   Contact: 021-11 22\\n___________________________________________'\n",
    "            .format(emp[idxs['ID']], date.today().strftime(\"%d/%m/%Y\"), emp[idxs['Month']], emp[idxs['Name']], emp[idxs['Department']], emp[idxs['Designation']], emp[idxs['Leaves']], salary, emp[idxs['Salary']], ((int(emp[idxs['Salary']])/30)*lvs) ))\n",
    "\n",
    "        pdff = FPDF()  \n",
    "        pdff.add_page()\n",
    "        pdff.set_font(\"Arial\", size = 15)\n",
    "        \n",
    "        receipt.seek(0)\n",
    "        \n",
    "        for word in receipt:\n",
    "            pdff.cell(200, 10, txt = word, ln = 1, align = 'C')\n",
    "        pdff.output(\"PDF_Receipts/emp_\"+emp[0]+\".pdf\")\n",
    "        \n",
    "        receipt.close()"
   ]
  },
  {
   "cell_type": "code",
   "execution_count": null,
   "id": "2d12ff1b",
   "metadata": {},
   "outputs": [],
   "source": []
  }
 ],
 "metadata": {
  "kernelspec": {
   "display_name": "Python 3 (ipykernel)",
   "language": "python",
   "name": "python3"
  },
  "language_info": {
   "codemirror_mode": {
    "name": "ipython",
    "version": 3
   },
   "file_extension": ".py",
   "mimetype": "text/x-python",
   "name": "python",
   "nbconvert_exporter": "python",
   "pygments_lexer": "ipython3",
   "version": "3.9.12"
  }
 },
 "nbformat": 4,
 "nbformat_minor": 5
}
